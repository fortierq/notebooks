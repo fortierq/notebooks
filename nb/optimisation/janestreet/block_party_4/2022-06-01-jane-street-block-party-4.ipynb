{
    "cells": [
        {
            "cell_type": "markdown",
            "metadata": {},
            "source": [
                "In this month's Puzzle, we must fill a grid with constraints:\n",
                "> Fill each region with the numbers 1 through N, where N is the number of cells in the region. For each number K in the grid, the nearest K via taxicab distance must be exactly K cells away.  \n",
                "> Once the grid is completed, the answer to the puzzle is found as follows: compute the product of the values in each row, and then take the sum of these products.\n",
                "\n",
                "<center><img src=https://www.janestreet.com/puzzles/block-party-4.png width=500></center>\n",
                "\n",
                "## SMT Solver\n",
                "\n",
                "We are going to use a SMT solver API called [PySMT](https://github.com/pysmt/pysmt). I used the MathSAT5 solver as a backend, but PySMT is compatible with many solvers, including Z3.  "
            ]
        },
        {
            "cell_type": "code",
            "execution_count": 1,
            "metadata": {},
            "outputs": [],
            "source": [
                "from itertools import product\n",
                "\n",
                "import numpy as np\n",
                "from pysmt.shortcuts import And, Equals, Implies, Int, Not, Or, Solver, Symbol\n",
                "from pysmt.typing import INT"
            ]
        },
        {
            "cell_type": "markdown",
            "metadata": {},
            "source": [
                "## Variables\n",
                "\n",
                "I store regions (numbered arbitrarily) in the following matrix:"
            ]
        },
        {
            "cell_type": "code",
            "execution_count": 2,
            "metadata": {},
            "outputs": [
                {
                    "data": {
                        "text/plain": [
                            "array([[ 0,  1,  1,  1,  2,  2,  2,  2,  2,  2],\n",
                            "       [ 0,  0,  1,  1,  1,  2,  3,  3,  2,  2],\n",
                            "       [ 0,  0,  4,  4,  5,  5,  6,  3,  7,  7],\n",
                            "       [ 0,  0,  8,  4,  9,  6,  6,  6,  7,  7],\n",
                            "       [ 0,  8,  8,  9,  9, 10, 11,  6,  6,  7],\n",
                            "       [ 0, 12,  8, 13, 14, 10, 15, 15,  7,  7],\n",
                            "       [ 0, 16, 17, 13, 13, 13, 15, 20, 20, 20],\n",
                            "       [16, 16, 17, 18, 13, 19, 22, 21, 21, 22],\n",
                            "       [16, 16, 16, 18, 18, 22, 22, 21, 21, 22],\n",
                            "       [16, 16, 16, 16, 18, 18, 22, 22, 22, 22]])"
                        ]
                    },
                    "execution_count": 2,
                    "metadata": {},
                    "output_type": "execute_result"
                }
            ],
            "source": [
                "region = np.array([\n",
                "    [0] + [1]*3 + [2]*6,\n",
                "    [0]*2 + [1]*3 + [2] + [3]*2 + [2]*2,\n",
                "    [0]*2 + [4]*2 + [5]*2 + [6, 3] + [7]*2,\n",
                "    [0]*2 + [8, 4, 9] + [6]*3 + [7]*2,\n",
                "    [0] + [8]*2 + [9]*2 + [10, 11] + [6]*2 + [7],\n",
                "    [0, 12, 8, 13, 14, 10] + [15]*2 + [7]*2,\n",
                "    [0, 16, 17] + [13]*3 + [15] + [20]*3,\n",
                "    [16]*2 + [17, 18, 13, 19, 22] + [21]*2 + [22],\n",
                "    [16]*3 + [18]*2 + [22]*2 + [21]*2 + [22],\n",
                "    [16]*4 + [18]*2 + [22]*4\n",
                "])\n",
                "region"
            ]
        },
        {
            "cell_type": "markdown",
            "metadata": {},
            "source": [
                "Each cell will be a variable:"
            ]
        },
        {
            "cell_type": "code",
            "execution_count": 3,
            "metadata": {},
            "outputs": [],
            "source": [
                "R = range(10)\n",
                "x = [[Symbol(f\"{i},{j}\", INT) for j in R] for i in R] # x[i][j] is the number row i, column j"
            ]
        },
        {
            "cell_type": "markdown",
            "metadata": {},
            "source": [
                "## Formula\n",
                "\n",
                "We now define a formula `f` for the problem.  \n",
                "Firstly, every cell must be between $1$ and $N$, where $N$ is the number of cells in the corresponding region:"
            ]
        },
        {
            "cell_type": "code",
            "execution_count": 4,
            "metadata": {},
            "outputs": [
                {
                    "data": {
                        "text/plain": [
                            "(((((... & ...) & (... & ...)) & ((... <= ...) & (... <= ...))) & ((1 <= '9,8') & ('9,8' <= 9))) & ((1 <= '9,9') & ('9,9' <= 9)))"
                        ]
                    },
                    "execution_count": 4,
                    "metadata": {},
                    "output_type": "execute_result"
                }
            ],
            "source": [
                "f = True\n",
                "for i, j in product(R, R):\n",
                "        f &= (1 <= x[i][j]) & (x[i][j] <= int((region == region[i][j]).sum()))\n",
                "f"
            ]
        },
        {
            "cell_type": "markdown",
            "metadata": {},
            "source": [
                "Two cells in the same region must be different:"
            ]
        },
        {
            "cell_type": "code",
            "execution_count": 5,
            "metadata": {},
            "outputs": [],
            "source": [
                "def eq(i, j, k):\n",
                "    return Equals(x[i][j], Int(k))\n",
                "def neq(i, j, k):\n",
                "    return Not(eq(i, j, k)) \n",
                "    \n",
                "for i, j in product(R, R):\n",
                "    for i_, j_ in product(R, R):\n",
                "        if (i, j) < (i_, j_) and region[i][j] == region[i_][j_]:\n",
                "            f &= Not(Equals(x[i][j], x[i_][j_]))"
            ]
        },
        {
            "cell_type": "markdown",
            "metadata": {},
            "source": [
                "For each cell with number $k$, the closest cell with number $k$ must be exactly $k$ cells away:"
            ]
        },
        {
            "cell_type": "code",
            "execution_count": 6,
            "metadata": {},
            "outputs": [],
            "source": [
                "for i, j in product(R, R):\n",
                "    for k in range(1, region[i][j] + 1):\n",
                "        ok, nok = [], []\n",
                "        for i_, j_ in product(R, R):\n",
                "            if abs(i - i_) + abs(j - j_) == k:\n",
                "                ok.append(eq(i_, j_, k))\n",
                "            if abs(i - i_) + abs(j - j_) < k and (i, j) != (i_, j_):\n",
                "                nok.append(neq(i_, j_, k))\n",
                "        f &= Implies(eq(i, j, k), And(Or(ok), And(nok)))"
            ]
        },
        {
            "cell_type": "markdown",
            "metadata": {},
            "source": [
                "Initial values in the grid:"
            ]
        },
        {
            "cell_type": "code",
            "execution_count": 7,
            "metadata": {},
            "outputs": [],
            "source": [
                "for (i, j, k) in [(0, 1, 3), (0, 5, 7), (1, 3, 4), (2, 8, 2), (3, 3, 1), (4, 0, 6), (4, 2, 1), (5, 7, 3), (5, 9, 6), (6, 6, 2), (7, 1, 2), (8, 6, 6), (9, 4, 5), (9, 8, 2)]:\n",
                "    f &= eq(i, j, k)"
            ]
        },
        {
            "cell_type": "markdown",
            "metadata": {},
            "source": [
                "Finally, we can solve our problem:"
            ]
        },
        {
            "cell_type": "code",
            "execution_count": 8,
            "metadata": {},
            "outputs": [
                {
                    "name": "stdout",
                    "output_type": "stream",
                    "text": [
                        "9   3   6   2   3   7   4   9   6   5   \n",
                        "8   7   5   4   1   1   2   3   8   2   \n",
                        "10  5   3   2   1   2   5   1   2   4   \n",
                        "4   1   2   1   2   6   3   1   1   3   \n",
                        "6   3   1   1   3   2   1   4   2   7   \n",
                        "2   1   4   5   1   1   1   3   5   6   \n",
                        "3   1   2   3   2   4   2   1   2   3   \n",
                        "7   2   1   1   1   1   3   1   4   9   \n",
                        "5   8   3   4   2   1   6   2   3   8   \n",
                        "4   6   9   10  5   3   4   7   2   5   \n"
                    ]
                }
            ],
            "source": [
                "with Solver() as solver:\n",
                "    solver.add_assertion(f)\n",
                "    if solver.solve():\n",
                "        V = [[solver.get_value(x[i][j]).constant_value() for j in R] for i in R]\n",
                "        for i in R:\n",
                "            for j in R:\n",
                "                print(V[i][j], \"\" if V[i][j] == 10 else \" \", end=\" \")\n",
                "            print()\n"
            ]
        },
        {
            "cell_type": "markdown",
            "metadata": {},
            "source": [
                "The answer is the sum of the products of the values in each row:"
            ]
        },
        {
            "cell_type": "code",
            "execution_count": 9,
            "metadata": {},
            "outputs": [
                {
                    "data": {
                        "text/plain": [
                            "16842072"
                        ]
                    },
                    "execution_count": 9,
                    "metadata": {},
                    "output_type": "execute_result"
                }
            ],
            "source": [
                "from functools import reduce\n",
                "from operator import mul\n",
                "sum(reduce(mul, V[i]) for i in R)"
            ]
        }
    ],
    "metadata": {
        "interpreter": {
            "hash": "949777d72b0d2535278d3dc13498b2535136f6dfe0678499012e853ee9abcab1"
        },
        "kernelspec": {
            "display_name": "Python 3.10.4 64-bit",
            "language": "python",
            "name": "python3"
        },
        "language_info": {
            "codemirror_mode": {
                "name": "ipython",
                "version": 3
            },
            "file_extension": ".py",
            "mimetype": "text/x-python",
            "name": "python",
            "nbconvert_exporter": "python",
            "pygments_lexer": "ipython3",
            "version": "3.10.5"
        },
        "metadata": {
            "interpreter": {
                "hash": "3cef8a242177578f9c547081bd5679d7ea38a4d625e6f51d03c520e0a99ff3d2"
            }
        }
    },
    "nbformat": 4,
    "nbformat_minor": 4
}
