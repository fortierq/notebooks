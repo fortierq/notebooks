{
    "cells": [
        {
            "cell_type": "code",
            "execution_count": 1,
            "metadata": {},
            "outputs": [],
            "source": [
                "from pysmt.shortcuts import Symbol, And, Equals, Int, Or, Implies, Solver, Not, EqualsOrIff\n",
                "from pysmt.typing import INT\n",
                "import itertools\n",
                "import numpy as np"
            ]
        },
        {
            "cell_type": "code",
            "execution_count": 2,
            "metadata": {},
            "outputs": [],
            "source": [
                "N = np.array([\n",
                "    [0] + [1]*3 + [2]*6,\n",
                "    [0]*2 + [1]*3 + [2] + [3]*2 + [2]*2,\n",
                "    [0]*2 + [4]*2 + [5]*2 + [6, 3] + [7]*2,\n",
                "    [0]*2 + [8, 4, 9] + [6]*3 + [7]*2,\n",
                "    [0] + [8]*2 + [9]*2 + [10, 11] + [6]*2 + [7],\n",
                "    [0, 12, 8, 13, 14, 10] + [15]*2 + [7]*2,\n",
                "    [0, 16, 17] + [13]*3 + [15] + [20]*3,\n",
                "    [16]*2 + [17, 18, 13, 19, 22] + [21]*2 + [22],\n",
                "    [16]*3 + [18]*2 + [22]*2 + [21]*2 + [22],\n",
                "    [16]*4 + [18]*2 + [22]*4\n",
                "])"
            ]
        },
        {
            "cell_type": "code",
            "execution_count": 3,
            "metadata": {},
            "outputs": [
                {
                    "data": {
                        "text/plain": [
                            "(((((... & ...) & (... & ...)) & ((... <= ...) & (... <= ...))) & ((1 <= '9,8') & ('9,8' <= 9))) & ((1 <= '9,9') & ('9,9' <= 9)))"
                        ]
                    },
                    "execution_count": 3,
                    "metadata": {},
                    "output_type": "execute_result"
                }
            ],
            "source": [
                "R = range(10)\n",
                "\n",
                "f = True\n",
                "s = [[Symbol(f\"{i},{j}\", INT) for j in R] for i in R]\n",
                "for i, j in itertools.product(R, R):\n",
                "        f &= (1 <= s[i][j]) & (s[i][j] <= int((N == N[i][j]).sum()))\n",
                "f"
            ]
        },
        {
            "cell_type": "code",
            "execution_count": 4,
            "metadata": {},
            "outputs": [],
            "source": [
                "def eq(i, j, k):\n",
                "    return Equals(s[i][j], Int(k))\n",
                "def neq(i, j, k):\n",
                "    return Not(eq(i, j, k)) \n",
                "    \n",
                "for i, j in itertools.product(R, R):\n",
                "    for i_, j_ in itertools.product(R, R):\n",
                "        if (i, j) < (i_, j_) and N[i][j] == N[i_][j_]:\n",
                "            f &= Not(Equals(s[i][j], s[i_][j_]))"
            ]
        },
        {
            "cell_type": "code",
            "execution_count": 5,
            "metadata": {},
            "outputs": [],
            "source": [
                "for i, j in itertools.product(range(10), range(10)):\n",
                "    for k in range(1, N[i][j] + 1):\n",
                "        ok, nok = [], []\n",
                "        for i_, j_ in itertools.product(range(10), range(10)):\n",
                "            if abs(i - i_) + abs(j - j_) == k:\n",
                "                ok.append(eq(i_, j_, k))\n",
                "            if abs(i - i_) + abs(j - j_) < k and (i, j) != (i_, j_):\n",
                "                nok.append(neq(i_, j_, k))\n",
                "        f &= Implies(eq(i, j, k), And(Or(ok), And(nok)))"
            ]
        },
        {
            "cell_type": "code",
            "execution_count": 6,
            "metadata": {},
            "outputs": [],
            "source": [
                "for (i, j, k) in [(0, 1, 3), (0, 5, 7), (1, 3, 4), (2, 8, 2), (3, 3, 1), (4, 0, 6), (4, 2, 1), (5, 7, 3), (5, 9, 6), (6, 6, 2), (7, 1, 2), (8, 6, 6), (9, 4, 5), (9, 8, 2)]:\n",
                "    f &= eq(i, j, k)"
            ]
        },
        {
            "cell_type": "code",
            "execution_count": 7,
            "metadata": {},
            "outputs": [
                {
                    "name": "stdout",
                    "output_type": "stream",
                    "text": [
                        "9   3   6   2   3   7   4   9   6   5   \n",
                        "8   7   5   4   1   1   2   3   8   2   \n",
                        "10  5   3   2   1   2   5   1   2   4   \n",
                        "4   1   2   1   2   6   3   1   1   3   \n",
                        "6   3   1   1   3   2   1   4   2   7   \n",
                        "2   1   4   5   1   1   1   3   5   6   \n",
                        "3   1   2   3   2   4   2   1   2   3   \n",
                        "7   2   1   1   1   1   3   1   4   9   \n",
                        "5   8   3   4   2   1   6   2   3   8   \n",
                        "4   6   9   10  5   3   4   7   2   5   \n"
                    ]
                }
            ],
            "source": [
                "with Solver() as solver:\n",
                "    solver.add_assertion(f)\n",
                "    if solver.solve():\n",
                "        V = [[solver.get_value(s[i][j]).constant_value() for j in R] for i in R]\n",
                "        for i in range(10):\n",
                "            for j in range(10):\n",
                "                print(V[i][j], \"\" if V[i][j] == 10 else \" \", end=\" \")\n",
                "            print()\n"
            ]
        },
        {
            "cell_type": "code",
            "execution_count": 8,
            "metadata": {},
            "outputs": [
                {
                    "data": {
                        "text/plain": [
                            "16842072"
                        ]
                    },
                    "execution_count": 8,
                    "metadata": {},
                    "output_type": "execute_result"
                }
            ],
            "source": [
                "from functools import reduce\n",
                "from operator import mul\n",
                "sum(reduce(mul, V[i]) for i in R)"
            ]
        }
    ],
    "metadata": {
        "interpreter": {
            "hash": "949777d72b0d2535278d3dc13498b2535136f6dfe0678499012e853ee9abcab1"
        },
        "kernelspec": {
            "display_name": "Python 3.10.4 64-bit",
            "language": "python",
            "name": "python3"
        },
        "language_info": {
            "codemirror_mode": {
                "name": "ipython",
                "version": 3
            },
            "file_extension": ".py",
            "mimetype": "text/x-python",
            "name": "python",
            "nbconvert_exporter": "python",
            "pygments_lexer": "ipython3",
            "version": "3.10.4"
        },
        "metadata": {
            "interpreter": {
                "hash": "3cef8a242177578f9c547081bd5679d7ea38a4d625e6f51d03c520e0a99ff3d2"
            }
        }
    },
    "nbformat": 4,
    "nbformat_minor": 4
}
