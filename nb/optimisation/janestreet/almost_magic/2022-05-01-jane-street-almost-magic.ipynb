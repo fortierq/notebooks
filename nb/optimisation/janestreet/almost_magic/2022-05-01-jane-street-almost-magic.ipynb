{
 "cells": [
  {
   "cell_type": "markdown",
   "metadata": {},
   "source": [
    "The [April puzzle from Jane Street](https://www.janestreet.com/puzzles/current-puzzle/) asks for the minimum sum we can get by filling almost magic squares with distinct numbers:\n",
    "> For the purposes of this puzzle, define a magic square to be a 3-by-3 grid of positive integers for which the rows, columns, and two diagonals all have the same sum. An example is shown top left; the 8 sums all equal 39.  \n",
    "> An almost magic square is, well, almost a magic square. It differs from a magic square in that the 8 sums may differ from each other by at most 1. An example is shown top right; the sums are all 138 or 1391.  \n",
    "> For this puzzle, place distinct positive integers into the empty grid above such that each of four bold-outlined 3-by-3 regions is an almost magic square. Your goal is to do so in a way that minimizes the overall sum of the integers you use.\n",
    "\n",
    "<center><img src=almost-magic.png width=300></center>\n",
    "\n",
    "Let's solve this with integer linear programming, using [mip-python](https://www.python-mip.com).  \n",
    "For each square $k$ (numbered from top to bottom) and for each $i, j$ coordinates, we define an integer variable $x_{i, j, k}$. Since there are overlap between the squares, we equalize the variables in the same region:"
   ]
  },
  {
   "cell_type": "code",
   "execution_count": 2,
   "metadata": {},
   "outputs": [
    {
     "ename": "ModuleNotFoundError",
     "evalue": "No module named 'mip'",
     "output_type": "error",
     "traceback": [
      "\u001b[0;31m---------------------------------------------------------------------------\u001b[0m",
      "\u001b[0;31mModuleNotFoundError\u001b[0m                       Traceback (most recent call last)",
      "\u001b[1;32m/home/qfortier/code/notebooks/nb/optimisation/almost_magic/2022-05-01-jane-street-almost-magic.ipynb Cell 2'\u001b[0m in \u001b[0;36m<cell line: 1>\u001b[0;34m()\u001b[0m\n\u001b[0;32m----> <a href='vscode-notebook-cell:/home/qfortier/code/notebooks/nb/optimisation/almost_magic/2022-05-01-jane-street-almost-magic.ipynb#ch0000001?line=0'>1</a>\u001b[0m \u001b[39mfrom\u001b[39;00m \u001b[39mmip\u001b[39;00m \u001b[39mimport\u001b[39;00m \u001b[39m*\u001b[39m\n\u001b[1;32m      <a href='vscode-notebook-cell:/home/qfortier/code/notebooks/nb/optimisation/almost_magic/2022-05-01-jane-street-almost-magic.ipynb#ch0000001?line=1'>2</a>\u001b[0m \u001b[39mimport\u001b[39;00m \u001b[39mitertools\u001b[39;00m\n\u001b[1;32m      <a href='vscode-notebook-cell:/home/qfortier/code/notebooks/nb/optimisation/almost_magic/2022-05-01-jane-street-almost-magic.ipynb#ch0000001?line=3'>4</a>\u001b[0m m, x \u001b[39m=\u001b[39m Model(), {}\n",
      "\u001b[0;31mModuleNotFoundError\u001b[0m: No module named 'mip'"
     ]
    }
   ],
   "source": [
    "from mip import *\n",
    "import itertools\n",
    "\n",
    "m, x = Model(), {}\n",
    "for k, i, j in itertools.product(range(4), range(3), range(3)):\n",
    "    if (i, j, k) in [(0, 0, 1), (1, 0, 1)]:\n",
    "        x[i, j, k] = x[i + 1, 2, 0]\n",
    "    elif (i, j, k) in [(0, 1, 2), (0, 2, 2)]:\n",
    "        x[i, j, k] = x[2, j - 1, 0]\n",
    "    elif (i, j, k) in [(0, 0, 3), (1, 0, 3)]:\n",
    "        x[i, j, k] = x[i + 1, 2, 2]\n",
    "    elif (i, j, k) in [(0, 1, 3), (0, 2, 3)]:\n",
    "        x[i, j, k] = x[2, j - 1, 1]\n",
    "    else:\n",
    "        x[i, j, k] = m.add_var(var_type=mip.INTEGER, name=f\"x{i}{j}{k}\")\n",
    "        m += x[i, j, k] >= 1"
   ]
  },
  {
   "cell_type": "markdown",
   "metadata": {},
   "source": [
    "**Remark**: We could have used only $28$ distinct variables instead of $36$, but doing so simplifies the constraints generation."
   ]
  },
  {
   "cell_type": "markdown",
   "metadata": {},
   "source": [
    "Then, we make sure that two variables $x, y$ refering to distinct cases are different. To do this, we introduce a binary variable $e$ with the following constraints:\n",
    "$$x \\geq y + 1 - M\\times e$$\n",
    "$$y \\geq x + 1 - M\\times (1 - e)$$\n",
    "With $M$ a big constant (considered as infinity). Depending on the value of $e$, these constraints reduce to:  \n",
    "- if $e = 0$: $x \\geq y + 1$ (the other constraint $y \\geq -\\infty$ being useless)\n",
    "- if $e = 1$: $y \\geq x + 1$\n",
    "\n",
    "Therefore those equations indeed ensure that $x, y$ are distinct."
   ]
  },
  {
   "cell_type": "code",
   "execution_count": 2,
   "metadata": {},
   "outputs": [],
   "source": [
    "e = {}\n",
    "\n",
    "for i1, j1, k1 in itertools.product(range(3), range(3), range(4)):\n",
    "    for i2, j2, k2 in itertools.product(range(3), range(3), range(k1 + 1)):\n",
    "        if (i1, j1, k1) != (i2, j2, k2) and x[i1, j1, k1].name != x[i2, j2, k2].name:\n",
    "            e[i1, j1, k1, i2, j2, k2] = m.add_var(var_type=mip.BINARY, name=f\"e{i1}{j1}{k1}{i2}{j2}{k2}\")\n",
    "            m += x[i1, j1, k1] >= 1 + x[i2, j2, k2] - e[i1, j1, k1, i2, j2, k2]*150\n",
    "            m += x[i2, j2, k2] >= 1 + x[i1, j1, k1] - (1 - e[i1, j1, k1, i2, j2, k2])*150"
   ]
  },
  {
   "cell_type": "markdown",
   "metadata": {},
   "source": [
    "Finally, we encode the \"almost-magic\" property for each square. To do this, we require every line, column and diagonal to have the same sum as the first line, +/- 1:"
   ]
  },
  {
   "cell_type": "code",
   "execution_count": 3,
   "metadata": {},
   "outputs": [],
   "source": [
    "def pm(c, l, e): # add constraint c = l +/- 1\n",
    "    global m\n",
    "    m += c <= l + e\n",
    "    m += c >= l - (1 - e)\n",
    "\n",
    "for k in range(4):\n",
    "    e[k] = m.add_var(var_type=mip.BINARY, name=f\"e{k}\")\n",
    "    l = x[0, 0, k] + x[0, 1, k] + x[0, 2, k] # first line\n",
    "    for i in range(3):\n",
    "        if i != 0:\n",
    "            pm(x[i, 0, k] + x[i, 1, k] + x[i, 2, k], l, e[k])\n",
    "        pm(x[0, i, k] + x[1, i, k] + x[2, i, k], l, e[k])\n",
    "    pm(x[0, 0, k] + x[1, 1, k] + x[2, 2, k], l, e[k])\n",
    "    pm(x[0, 2, k] + x[1, 1, k] + x[2, 0, k], l, e[k])"
   ]
  },
  {
   "cell_type": "markdown",
   "metadata": {},
   "source": [
    "Let's check the size of the model:"
   ]
  },
  {
   "cell_type": "code",
   "execution_count": 4,
   "metadata": {},
   "outputs": [
    {
     "name": "stdout",
     "output_type": "stream",
     "text": [
      "Number of variables: 798\n",
      "Number of constraints: 1616\n"
     ]
    }
   ],
   "source": [
    "print(f\"Number of variables: {len(m.vars)}\")\n",
    "print(f\"Number of constraints: {len(m.constrs)}\")"
   ]
  },
  {
   "cell_type": "markdown",
   "metadata": {},
   "source": [
    "Finally, let's optimize the sum:"
   ]
  },
  {
   "cell_type": "code",
   "execution_count": 5,
   "metadata": {},
   "outputs": [
    {
     "data": {
      "text/plain": [
       "<OptimizationStatus.FEASIBLE: 3>"
      ]
     },
     "execution_count": 5,
     "metadata": {},
     "output_type": "execute_result"
    }
   ],
   "source": [
    "m.objective = minimize(xsum(x[i, j, k] for i, j, k in itertools.product(range(3), range(3), range(4))))\n",
    "m.verbose = 0\n",
    "m.optimize(max_seconds=1200)"
   ]
  },
  {
   "cell_type": "markdown",
   "metadata": {},
   "source": [
    "Here's the computed solution, for each square:"
   ]
  },
  {
   "cell_type": "code",
   "execution_count": 7,
   "metadata": {},
   "outputs": [
    {
     "name": "stdout",
     "output_type": "stream",
     "text": [
      "14 17 3 \n",
      "1 11 22 \n",
      "19 5 9 \n",
      "\n",
      "22 40 8 \n",
      "9 23 37 \n",
      "39 7 24 \n",
      "\n",
      "10 19 5 \n",
      "6 12 16 \n",
      "18 4 13 \n",
      "\n",
      "16 39 7 \n",
      "13 21 29 \n",
      "34 2 26 \n",
      "\n",
      "Sum of integers: 600.0\n"
     ]
    }
   ],
   "source": [
    "for k in range(4):\n",
    "    for i in range(3):\n",
    "        for j in range(3):\n",
    "            print(f\"{x[i, j, k].x:.0f}\", end=\" \")\n",
    "        print()\n",
    "    print()\n",
    "\n",
    "print(f\"Sum of integers: {m.objective_value}\")"
   ]
  },
  {
   "cell_type": "markdown",
   "metadata": {},
   "source": [
    "It turns out that this is an optimal solution, even though mip could not prove it in a reasonable time."
   ]
  }
 ],
 "metadata": {
  "interpreter": {
   "hash": "31f2aee4e71d21fbe5cf8b01ff0e069b9275f58929596ceb00d14d90e3e16cd6"
  },
  "kernelspec": {
   "display_name": "Python 3.10.4 64-bit",
   "language": "python",
   "name": "python3"
  },
  "language_info": {
   "codemirror_mode": {
    "name": "ipython",
    "version": 3
   },
   "file_extension": ".py",
   "mimetype": "text/x-python",
   "name": "python",
   "nbconvert_exporter": "python",
   "pygments_lexer": "ipython3",
   "version": "3.10.4"
  },
  "metadata": {
   "interpreter": {
    "hash": "3cef8a242177578f9c547081bd5679d7ea38a4d625e6f51d03c520e0a99ff3d2"
   }
  }
 },
 "nbformat": 4,
 "nbformat_minor": 4
}
