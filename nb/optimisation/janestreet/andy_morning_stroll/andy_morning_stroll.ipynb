{
 "cells": [
  {
   "cell_type": "markdown",
   "metadata": {},
   "source": [
    "In [this puzzle](https://www.janestreet.com/puzzles/andys-morning-stroll-index), we shall compare the return times of random walks on two different graphs:\n",
    "<center><img src=https://www.janestreet.com/puzzles/andys-morning-stroll.png width=70%></center>\n",
    "\n",
    "> Andy the ant has spent most of his days living on a strange land consisting of white hexagons that are surrounded by alternating black pentagons and white hexagons (three of each), and black pentagons surrounded by five white hexagons. To us this land is familiar as the classic soccer ball we see above on the left. Due to Andy’s tiny size and terrible eyesight, he doesn’t notice the curvature of the land and avoids the black pentagons because he suspects they may be bottomless pits.  \n",
    "> Every morning he wakes up on a white hexagon, leaves some pheromones to mark it as his special home space, and starts his random morning stroll. Every step on this stroll takes him to one of the three neighboring white hexagons with equal probability. He ends his stroll as soon as he first returns to his home space. As an example, on exactly 1/3 of mornings Andy’s stroll is 2 steps long, as he randomly visits one of the three neighbors, and then has a 1/3 probability of returning immediately to the home hexagon.  \n",
    "> This morning, his soccer ball bounced through a kitchen with an infinite (at least practically speaking…) regular hexagonal floor tiling consisting of black and white hexagons, a small part of which is shown above on the right. In this tiling every white hexagon is surrounded by alternating black and white hexagons, and black hexagons are surrounded by six white hexagons. Andy fell off the ball and woke up on a white hexagon. He didn’t notice any change in his surroundings, and goes about his normal morning routine.  \n",
    "> Let p be the probability that his morning stroll on this new land is strictly more steps than the expected number of steps his strolls on the soccer ball took. Find p, rounded to seven significant digits."
   ]
  },
  {
   "cell_type": "markdown",
   "metadata": {},
   "source": [
    "# Random walk on the soccer ball (truncated icosahedron)\n",
    "\n",
    "We firstly compute the mean return time of a random walk on the soccer ball.\n",
    "\n",
    "## Stationary distribution\n",
    "\n",
    "Let $0, ..., 19$ be the vertices of the underlying soccer ball graph and $\\pi_i$ be its [stationary distribution](https://en.wikipedia.org/wiki/Stationary_distribution) ($\\pi_i$ is the asymptotic probability to be in vertex $i$ in a random walk).\n",
    "\n",
    "The soccer ball being totally symmetric (it is a [vertex-transitive graph](https://en.wikipedia.org/wiki/Vertex-transitive_graph)), its stationary distribution is uniform:\n",
    "$$\\pi := \\begin{pmatrix}\n",
    "\\pi_0\\\\\n",
    "\\vdots\\\\\n",
    "\\pi_{19}\n",
    "\\end{pmatrix} = \\frac{1}{20}\\begin{pmatrix}\n",
    "1\\\\\n",
    "\\vdots\\\\\n",
    "1\n",
    "\\end{pmatrix}$$\n",
    "\n",
    "## Mean return time\n",
    "\n",
    "Let $P = (p_{i, j})_{0\\leq i\\leq 19, ~0\\leq j\\leq 19}$ be the [transition matrix](https://en.wikipedia.org/wiki/Transition_matrix) of the soccer ball graph. Here, $p_{i, j} = 1/3$ if $i$ and $j$ are adjacent vertices ($p_{i, j} = 0$ otherwise).  \n",
    "Let $E = (E[T_{i, j}])_{0\\leq i\\leq 19, ~0\\leq j\\leq 19}$ be the [hitting time](https://en.wikipedia.org/wiki/Hitting_time) matrix. Hence, $E[T_{i, j}]$ is the expected number of steps to reach vertex $j$ from vertex $i$."
   ]
  },
  {
   "cell_type": "markdown",
   "metadata": {},
   "source": [
    "**Theorem**:\n",
    "$$E[T_{i, i}] = \\frac{1}{\\pi_i}$$\n",
    "\n",
    "**Proof**:  \n",
    "A path from $i$ to $j$ can be split into a step to a neighbor $k$ of $i$ and a path from $k$ to $j$. Therefore:\n",
    "$$E[T_{i, j}] = 1 + \\displaystyle\\sum_{k \\neq j} p_{i, k} E[T_{k, j}]$$\n",
    "In a matrix form:\n",
    "$$E = U + PE - P\\Delta$$\n",
    "where $U$ is filled with $1$ and $\\Delta = \\text{diag}(E[T_{0, 0}], ..., E[T_{19, 19}])$.\n",
    "\n",
    "Let's multiply by $\\pi$ on the left:\n",
    "$$\\pi^T E = \\pi^T U + \\pi^T PE - \\pi^T P\\Delta$$\n",
    "\n",
    "Since $\\pi$ is stationary, $\\pi^T P = \\pi^T$.  \n",
    "Therefore:\n",
    "$$\\pi^T \\Delta = \\pi^T U = \\begin{pmatrix} 1 \\\\ \\vdots \\\\ 1 \\end{pmatrix}$$\n",
    "$$\\pi_i E[T_{i, i}] = 1$$\n",
    "$$\\boxed{E[T_{i, i}] = \\frac{1}{\\pi_i}}$$\n",
    "\n",
    "**Remark**: This theorem holds for any irreducible (strongly connected) Markov chain.\n",
    "\n",
    "Applied to our problem, this theorem shows that Andy's mean return time is $20$."
   ]
  },
  {
   "cell_type": "markdown",
   "metadata": {},
   "source": [
    "# Random walk on the kitchen\n",
    "\n",
    "It looks more difficult to mathematically compute the mean return time. "
   ]
  },
  {
   "cell_type": "markdown",
   "metadata": {},
   "source": [
    "$$\\begin{equation*}\n",
    "E[T_{i, j}] = \\begin{cases}\n",
    "1 + \\displaystyle\\sum_{k \\neq i} p_{i, k} E[T_{k, j}] &\\text{if } i \\neq j\\\\\n",
    "0 &\\text{otherwise}\n",
    "\\end{cases}\n",
    "\\end{equation*}$$"
   ]
  },
  {
   "cell_type": "code",
   "execution_count": 4,
   "metadata": {},
   "outputs": [],
   "source": [
    "from functools import cache\n",
    "\n",
    "@cache\n",
    "def proba(i, j, n):\n",
    "    if n > 20:\n",
    "        return 1\n",
    "    if i == 0 and j == 0 and n > 0:\n",
    "        return 0\n",
    "    \n",
    "    r1 = proba(i - 1, j, n + 1) \n",
    "    r2 = proba(i + 1, j, n + 1) \n",
    "    r3 = proba(i, j + (1 if n % 2 == 1 else -1), n + 1)\n",
    "    return (r1 + r2 + r3)/3"
   ]
  },
  {
   "cell_type": "code",
   "execution_count": 5,
   "metadata": {},
   "outputs": [
    {
     "data": {
      "text/plain": [
       "0.4480326"
      ]
     },
     "execution_count": 5,
     "metadata": {},
     "output_type": "execute_result"
    }
   ],
   "source": [
    "float(f\"{proba(0, 0, 0):.7f}\")"
   ]
  }
 ],
 "metadata": {
  "kernelspec": {
   "display_name": "Python 3.10.5 64-bit",
   "language": "python",
   "name": "python3"
  },
  "language_info": {
   "codemirror_mode": {
    "name": "ipython",
    "version": 3
   },
   "file_extension": ".py",
   "mimetype": "text/x-python",
   "name": "python",
   "nbconvert_exporter": "python",
   "pygments_lexer": "ipython3",
   "version": "3.10.5"
  },
  "orig_nbformat": 4,
  "vscode": {
   "interpreter": {
    "hash": "e7370f93d1d0cde622a1f8e1c04877d8463912d04d973331ad4851f04de6915a"
   }
  }
 },
 "nbformat": 4,
 "nbformat_minor": 2
}
