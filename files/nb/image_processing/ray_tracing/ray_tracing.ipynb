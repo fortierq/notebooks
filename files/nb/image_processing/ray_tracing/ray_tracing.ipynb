{
 "cells": [
  {
   "cell_type": "code",
   "execution_count": 10,
   "source": [
    "import math, numpy as np\n",
    "\n",
    "p1, p2 = np.array([1, 2, 3]), np.array([4, 0, 3])"
   ],
   "outputs": [],
   "metadata": {}
  },
  {
   "cell_type": "markdown",
   "source": [
    "# I Géométrie"
   ],
   "metadata": {}
  },
  {
   "cell_type": "code",
   "execution_count": 11,
   "source": [
    "# Q1\n",
    "def vec(A, B):\n",
    "    return np.array(B) - np.array(A)\n",
    "    \n",
    "vec(p1, p2)"
   ],
   "outputs": [
    {
     "output_type": "execute_result",
     "data": {
      "text/plain": [
       "array([ 3, -2,  0])"
      ]
     },
     "metadata": {},
     "execution_count": 11
    }
   ],
   "metadata": {}
  },
  {
   "cell_type": "code",
   "execution_count": 12,
   "source": [
    "# Q2 \n",
    "def ps(v1, v2):\n",
    "    return np.sum(v1 * v2)\n",
    "\n",
    "ps(p1, p2)"
   ],
   "outputs": [
    {
     "output_type": "execute_result",
     "data": {
      "text/plain": [
       "13"
      ]
     },
     "metadata": {},
     "execution_count": 12
    }
   ],
   "metadata": {}
  },
  {
   "cell_type": "code",
   "execution_count": 13,
   "source": [
    "# Q3\n",
    "def norme(v):\n",
    "    return np.sqrt(np.sum(v**2))\n",
    "\n",
    "norme(p2)"
   ],
   "outputs": [
    {
     "output_type": "execute_result",
     "data": {
      "text/plain": [
       "5.0"
      ]
     },
     "metadata": {},
     "execution_count": 13
    }
   ],
   "metadata": {}
  },
  {
   "cell_type": "code",
   "execution_count": 15,
   "source": [
    "# Q4\n",
    "def unitaire(v):\n",
    "    return v / norme(v)\n",
    "\n",
    "unitaire(p2)"
   ],
   "outputs": [
    {
     "output_type": "execute_result",
     "data": {
      "text/plain": [
       "array([0.8, 0. , 0.6])"
      ]
     },
     "metadata": {},
     "execution_count": 15
    }
   ],
   "metadata": {}
  },
  {
   "cell_type": "code",
   "execution_count": 17,
   "source": [
    "# Q5\n",
    "def pt(r, t):\n",
    "    assert t >= 0\n",
    "    (S, u) = r\n",
    "    return S + t * u\n",
    "\n",
    "def dir(A, B):\n",
    "    return unitaire(vec(A, B))\n",
    "\n",
    "def ra(A, B):\n",
    "    return A, dir(A, B)"
   ],
   "outputs": [],
   "metadata": {}
  },
  {
   "cell_type": "code",
   "execution_count": 18,
   "source": [
    "# Q6\n",
    "def sp(A, B):\n",
    "    return (A, norme(B - A))"
   ],
   "outputs": [],
   "metadata": {}
  },
  {
   "cell_type": "code",
   "execution_count": 23,
   "source": [
    "# Q8\n",
    "def intersection(r, s):\n",
    "    S, u = r\n",
    "    C, r_s = s\n",
    "    CS = vec(S, C)\n",
    "    b = 2*ps(u, CS)\n",
    "    delta = b**2 - 4*(norme(CS)**2 - r_s**2)\n",
    "    if delta < 0:\n",
    "        return None\n",
    "    t1, t2 = -b - delta**0.5, -b + delta**0.5\n",
    "    t = min(abs(t1), abs(t2))/2\n",
    "    return S + t*u, t\n",
    "\n",
    "O = np.array([.0, .0, .0])\n",
    "r = O, np.array([1/2**.5, 1/2**.5, .0])\n",
    "s = np.array([2., 2., .0]), 1\n",
    "intersection(r, s)"
   ],
   "outputs": [
    {
     "output_type": "execute_result",
     "data": {
      "text/plain": [
       "(array([1.29289322, 1.29289322, 0.        ]), 1.8284271247461916)"
      ]
     },
     "metadata": {},
     "execution_count": 23
    }
   ],
   "metadata": {}
  },
  {
   "cell_type": "code",
   "execution_count": 25,
   "source": [
    "2*2**.5 - 1  # vérification à la main"
   ],
   "outputs": [
    {
     "output_type": "execute_result",
     "data": {
      "text/plain": [
       "1.8284271247461903"
      ]
     },
     "metadata": {},
     "execution_count": 25
    }
   ],
   "metadata": {}
  },
  {
   "cell_type": "markdown",
   "source": [
    "# Optique\n",
    "\n",
    "## Visibilité\n",
    "\n",
    "Q 9. P est le premier point d'intersection d'un rayon partant de S et allant en P. (ou : Produit scalaire positif avec la normale au plan tangent)"
   ],
   "metadata": {}
  },
  {
   "cell_type": "code",
   "execution_count": 26,
   "source": [
    "# Q10\n",
    "def au_dessus(s, P, src):\n",
    "    return np.allclose(intersection(ra(src, P), s)[0], P)"
   ],
   "outputs": [],
   "metadata": {}
  },
  {
   "cell_type": "code",
   "execution_count": null,
   "source": [],
   "outputs": [],
   "metadata": {}
  }
 ],
 "metadata": {
  "orig_nbformat": 4,
  "language_info": {
   "name": "python",
   "version": "3.8.10",
   "mimetype": "text/x-python",
   "codemirror_mode": {
    "name": "ipython",
    "version": 3
   },
   "pygments_lexer": "ipython3",
   "nbconvert_exporter": "python",
   "file_extension": ".py"
  },
  "kernelspec": {
   "name": "python3",
   "display_name": "Python 3.8.10 64-bit ('notebook-Otwu4MGz-py3.8': poetry)"
  },
  "interpreter": {
   "hash": "be9ec4318ce92b231f77995c536a75327776825c4bd4f96a9a5021814809bf6e"
  }
 },
 "nbformat": 4,
 "nbformat_minor": 2
}