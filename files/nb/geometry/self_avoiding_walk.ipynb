{
 "cells": [
  {
   "cell_type": "markdown",
   "metadata": {},
   "source": [
    "# <center><a href='https://mybinder.org/v2/gh/fortierq/notebooks/master?urlpath=git-pull%3Frepo%3Dhttps%253A%252F%252Fgithub.com%252Ffortierq%252Fnotebooks%26urlpath%3Dlab%252Ftree%252Fnotebooks%252Fnb%252Fgeometry%252Fself_avoiding_walk.ipynb%26branch%3Dmaster'>Self-avoiding walks                 <img src=https://mybinder.org/badge.svg></a></center>\n",
    "\n",
    "A **self-avoiding walk** (SAW) in $\\mathbb{Z}^d$ is a walk (sequence of points) which does not intersect itself.  \n",
    "\n",
    "The **pivot algorithm** consists in sampling from the set of all SAW of length $n$ with the following Monte Carlo method:  \n",
    "- Start with a straight walk of length $n$  \n",
    "- Randomly select a point (the *pivot*) from this walk "
   ]
  },
  {
   "cell_type": "code",
   "execution_count": null,
   "metadata": {},
   "outputs": [],
   "source": [
    "def pivot_algorithm(n):\n",
    "    "
   ]
  }
 ],
 "metadata": {
  "interpreter": {
   "hash": "638d2bb0c3d5a654c8dabbf1e544957f030902e91031027a7993b713e9c17aba"
  },
  "kernelspec": {
   "display_name": "Python 3.9.7 64-bit",
   "language": "python",
   "name": "python3"
  },
  "language_info": {
   "name": "python",
   "version": "3.9.7"
  },
  "orig_nbformat": 4
 },
 "nbformat": 4,
 "nbformat_minor": 2
}
